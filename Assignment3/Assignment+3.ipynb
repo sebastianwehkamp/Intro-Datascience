{
 "cells": [
  {
   "cell_type": "markdown",
   "metadata": {},
   "source": [
    "# Sampling notebook"
   ]
  },
  {
   "cell_type": "markdown",
   "metadata": {},
   "source": [
    "## Introduction"
   ]
  },
  {
   "cell_type": "markdown",
   "metadata": {},
   "source": [
    "The goal of this notebook is provide examples of popular and widely used sampling techniques. This notebook is an attachment to the paper \"Assignment 3\" by Thijs van der Knaap, Hatim Alsayahani, Sebastian Wehkamp, and Dimitris Laskaratos "
   ]
  },
  {
   "cell_type": "markdown",
   "metadata": {},
   "source": [
    "## Setting up the population"
   ]
  },
  {
   "cell_type": "markdown",
   "metadata": {},
   "source": [
    "Start with importing modules"
   ]
  },
  {
   "cell_type": "code",
   "execution_count": 1,
   "metadata": {
    "collapsed": true
   },
   "outputs": [],
   "source": [
    "import random"
   ]
  },
  {
   "cell_type": "markdown",
   "metadata": {},
   "source": [
    "Create a population from which we will sample"
   ]
  },
  {
   "cell_type": "code",
   "execution_count": 2,
   "metadata": {
    "collapsed": true
   },
   "outputs": [],
   "source": [
    "population = [ 1 , 2 , 3 , 4 , 5 , 6 , 7 , 8 ,9  , 10, 1200, 1749, 9827, 5342, 8463, 7263, 5132, 8216, 4858, 3839, 848484, 969399, 757699, 162636, 534828, 85738, 37389, 947689, 489208, 756289]"
   ]
  },
  {
   "cell_type": "markdown",
   "metadata": {},
   "source": [
    "## Traditional Sampling"
   ]
  },
  {
   "cell_type": "markdown",
   "metadata": {},
   "source": [
    "The following strategies are heavily employed in statistics and surveys, to provide a general picture of certain aspects of the population.\n"
   ]
  },
  {
   "cell_type": "markdown",
   "metadata": {},
   "source": [
    "### Random sampling"
   ]
  },
  {
   "cell_type": "code",
   "execution_count": 18,
   "metadata": {},
   "outputs": [
    {
     "name": "stdout",
     "output_type": "stream",
     "text": [
      "[8463, 37389, 8, 1749]\n"
     ]
    }
   ],
   "source": [
    "sample = random.sample(population,4)\n",
    "print(sample)"
   ]
  },
  {
   "cell_type": "markdown",
   "metadata": {},
   "source": [
    "### Stratified sampling"
   ]
  },
  {
   "cell_type": "markdown",
   "metadata": {},
   "source": [
    "Create groups"
   ]
  },
  {
   "cell_type": "code",
   "execution_count": 38,
   "metadata": {
    "collapsed": true
   },
   "outputs": [],
   "source": [
    "Group1 = [i for i in population if i <= 100]\n",
    "Group2 = [i for i in population if (i <= 10000 and i > 100)]\n",
    "Group3 = [i for i in population if i <= 1000000 and i > 10000]"
   ]
  },
  {
   "cell_type": "markdown",
   "metadata": {},
   "source": [
    "Sample every group"
   ]
  },
  {
   "cell_type": "code",
   "execution_count": 28,
   "metadata": {
    "collapsed": true
   },
   "outputs": [],
   "source": [
    "sampleGroup1 = random.sample(Group1,4)\n",
    "sampleGroup2 = random.sample(Group2,4)\n",
    "sampleGroup3 = random.sample(Group3,4)"
   ]
  },
  {
   "cell_type": "code",
   "execution_count": 34,
   "metadata": {},
   "outputs": [
    {
     "name": "stdout",
     "output_type": "stream",
     "text": [
      "[4, 10, 3, 9] [8216, 5132, 9827, 4858] [969399, 848484, 534828, 756289]\n"
     ]
    }
   ],
   "source": [
    "print(sampleGroup1, sampleGroup2, sampleGroup3)"
   ]
  },
  {
   "cell_type": "markdown",
   "metadata": {},
   "source": [
    "### Systematic sampling"
   ]
  },
  {
   "cell_type": "markdown",
   "metadata": {},
   "source": [
    "Create ordering scheme"
   ]
  },
  {
   "cell_type": "code",
   "execution_count": 10,
   "metadata": {},
   "outputs": [],
   "source": [
    "sortedPopulation = sorted(population)"
   ]
  },
  {
   "cell_type": "markdown",
   "metadata": {},
   "source": [
    "Apply sampling at regular intervals of 8"
   ]
  },
  {
   "cell_type": "code",
   "execution_count": 11,
   "metadata": {},
   "outputs": [
    {
     "name": "stdout",
     "output_type": "stream",
     "text": [
      "[1, 9, 7263, 534828]\n"
     ]
    }
   ],
   "source": [
    "sample = sortedPopulation[0::8]\n",
    "print(sample)"
   ]
  },
  {
   "cell_type": "markdown",
   "metadata": {},
   "source": [
    "## Sampling in datascience"
   ]
  },
  {
   "cell_type": "markdown",
   "metadata": {},
   "source": [
    "First we are going to define a function simulation the execution of a arbitrary program. In this case it just adds 1 to the sample"
   ]
  },
  {
   "cell_type": "code",
   "execution_count": 14,
   "metadata": {
    "collapsed": true
   },
   "outputs": [],
   "source": [
    "def runAnalysis(sample):\n",
    "    print('Analysis executed!')"
   ]
  },
  {
   "cell_type": "markdown",
   "metadata": {},
   "source": [
    "### As part of pre-processing"
   ]
  },
  {
   "cell_type": "code",
   "execution_count": 15,
   "metadata": {},
   "outputs": [
    {
     "name": "stdout",
     "output_type": "stream",
     "text": [
      "Analysis executed!\n"
     ]
    }
   ],
   "source": [
    "sample = random.sample(population,4)\n",
    "runAnalysis(sample)"
   ]
  },
  {
   "cell_type": "markdown",
   "metadata": {},
   "source": [
    "### Embedded approach"
   ]
  },
  {
   "cell_type": "markdown",
   "metadata": {},
   "source": [
    "This approach keeps increasing the sample size until it reaches 5 which is considered sufficient in this case."
   ]
  },
  {
   "cell_type": "code",
   "execution_count": 16,
   "metadata": {},
   "outputs": [
    {
     "name": "stdout",
     "output_type": "stream",
     "text": [
      "Analysis executed!\n",
      "Sample size used is 1\n",
      "Analysis executed!\n",
      "Sample size used is 2\n",
      "Analysis executed!\n",
      "Sample size used is 3\n",
      "Analysis executed!\n",
      "Sample size used is 4\n",
      "Results are sufficient\n"
     ]
    }
   ],
   "source": [
    "for i in range (1, 5):\n",
    "    sample = random.sample(population,i)\n",
    "    runAnalysis(sample)\n",
    "    print('Sample size used is', i)\n",
    "    \n",
    "print('Results are sufficient')"
   ]
  }
 ],
 "metadata": {
  "kernelspec": {
   "display_name": "Python 3",
   "language": "python",
   "name": "python3"
  },
  "language_info": {
   "codemirror_mode": {
    "name": "ipython",
    "version": 3
   },
   "file_extension": ".py",
   "mimetype": "text/x-python",
   "name": "python",
   "nbconvert_exporter": "python",
   "pygments_lexer": "ipython3",
   "version": "3.6.1"
  }
 },
 "nbformat": 4,
 "nbformat_minor": 2
}
